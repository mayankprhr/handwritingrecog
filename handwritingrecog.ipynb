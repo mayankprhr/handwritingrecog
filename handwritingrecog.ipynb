{
  "nbformat": 4,
  "nbformat_minor": 0,
  "metadata": {
    "colab": {
      "name": "handwritingrecog.ipynb",
      "version": "0.3.2",
      "provenance": [],
      "toc_visible": true,
      "include_colab_link": true
    },
    "kernelspec": {
      "name": "python2",
      "display_name": "Python 2"
    }
  },
  "cells": [
    {
      "cell_type": "markdown",
      "metadata": {
        "id": "view-in-github",
        "colab_type": "text"
      },
      "source": [
        "[View in Colaboratory](https://colab.research.google.com/github/mayankprhr/handwritingrecog/blob/master/handwritingrecog.ipynb)"
      ]
    },
    {
      "metadata": {
        "id": "WL6U2Rf9w1Xv",
        "colab_type": "code",
        "colab": {
          "base_uri": "https://localhost:8080/",
          "height": 104
        },
        "outputId": "78974887-62eb-4293-8948-4a46149a5eef"
      },
      "cell_type": "code",
      "source": [
        "from sklearn.externals import joblib   #save claasifier in a file so that we can use it again without training it again\n",
        "from sklearn import datasets \t\t   #download mnist package database \n",
        "from skimage.feature import hog\t\t   #to calculate hog features(HISTOGRAM OF ORIENTED GAUSSIANS)\n",
        "from sklearn.svm import LinearSVC \t   #to perform prediction after training\n",
        "import numpy as np  \t\t\t\t   #to store hog features in numpy arrays\n",
        "from collections import Counter\n",
        "\n",
        "dataset=datasets.fetch_mldata(\"MNIST Original\")\t\t\t#downlaod db\n",
        "features=np.array(dataset.data, 'int16')\n",
        "labels=np.array(dataset.target, 'int')\n",
        "\n",
        "#calc hog features\n",
        "list_hog_fd=[]\t\t\t\t#initialise empty list where hog features are appended for each sample\n",
        "for feature in features:\n",
        "\t#calc hog features and append them to list list_hog_fd\t\n",
        "\t#set no. of cells in each individual cells to 1 of size 14x14 each\n",
        "\t#set orientation vector to 9, hog feature vector for each sample is 4x9=36  ????\n",
        "\tfd=hog(feature.reshape((28,28)),orientations=9, pixels_per_cell=(14,14),cells_per_block=(1,1),visualise=False)\n",
        "\tlist_hog_fd.append(fd)\n",
        "\n",
        "#create numpy array containing hog features to train classifier\n",
        "hog_features=np.array(list_hog_fd,'float64')\n",
        "print \"Count of digits in dataset\",Counter(labels)\n",
        "#create linear SVM #multi class classifier is needed\n",
        "clf=LinearSVC()\n",
        "clf.fit(hog_features,labels)\t\t#perform training using fit member function\n",
        "\n",
        "#save the trained classifier in file\n",
        "joblib.dump(clf,\"digits_cls.pkl\",compress=3) \t\t\t#to set how much compression is done more compression leads to slower read and writes\n",
        "\n",
        "\n",
        "\n"
      ],
      "execution_count": 1,
      "outputs": [
        {
          "output_type": "stream",
          "text": [
            "/usr/local/lib/python2.7/dist-packages/skimage/feature/_hog.py:119: skimage_deprecation: Default value of `block_norm`==`L1` is deprecated and will be changed to `L2-Hys` in v0.15\n",
            "  'be changed to `L2-Hys` in v0.15', skimage_deprecation)\n"
          ],
          "name": "stderr"
        },
        {
          "output_type": "stream",
          "text": [
            "Count of digits in dataset Counter({1: 7877, 7: 7293, 3: 7141, 2: 6990, 9: 6958, 0: 6903, 6: 6876, 8: 6825, 4: 6824, 5: 6313})\n"
          ],
          "name": "stdout"
        },
        {
          "output_type": "execute_result",
          "data": {
            "text/plain": [
              "['digits_cls.pkl']"
            ]
          },
          "metadata": {
            "tags": []
          },
          "execution_count": 1
        }
      ]
    },
    {
      "metadata": {
        "id": "MJXCaz0N71YT",
        "colab_type": "code",
        "colab": {
          "base_uri": "https://localhost:8080/",
          "height": 505
        },
        "outputId": "882b80d6-ce51-4999-bea8-9c21088e5e03"
      },
      "cell_type": "code",
      "source": [
        "!pip install tensorflow-gpu"
      ],
      "execution_count": 1,
      "outputs": [
        {
          "output_type": "stream",
          "text": [
            "Collecting tensorflow-gpu\n",
            "\u001b[?25l  Downloading https://files.pythonhosted.org/packages/ce/5c/33d3fc212cd392ceb4396d6b5280fdb426856b8d9702a710444370c50e8c/tensorflow_gpu-1.11.0-cp27-cp27mu-manylinux1_x86_64.whl (258.9MB)\n",
            "\u001b[K    100% |████████████████████████████████| 258.9MB 73kB/s \n",
            "tcmalloc: large alloc 1073750016 bytes == 0x56548bfd0000 @  0x7f406c9491c4 0x56543c0720d8 0x56543c15bd5d 0x56543c08577a 0x56543c08a462 0x56543c082b3a 0x56543c08a82e 0x56543c082b3a 0x56543c08a82e 0x56543c082b3a 0x56543c08a82e 0x56543c082b3a 0x56543c08ae1f 0x56543c082b3a 0x56543c08a82e 0x56543c082b3a 0x56543c08a82e 0x56543c08a462 0x56543c08a462 0x56543c082b3a 0x56543c08ae1f 0x56543c08a462 0x56543c082b3a 0x56543c08ae1f 0x56543c082b3a 0x56543c08ae1f 0x56543c082b3a 0x56543c08a82e 0x56543c082b3a 0x56543c0b350f 0x56543c0ae202\n",
            "\u001b[?25hRequirement already satisfied: grpcio>=1.8.6 in /usr/local/lib/python2.7/dist-packages (from tensorflow-gpu) (1.15.0)\n",
            "Requirement already satisfied: protobuf>=3.6.0 in /usr/local/lib/python2.7/dist-packages (from tensorflow-gpu) (3.6.1)\n",
            "Requirement already satisfied: enum34>=1.1.6 in /usr/local/lib/python2.7/dist-packages (from tensorflow-gpu) (1.1.6)\n",
            "Requirement already satisfied: gast>=0.2.0 in /usr/local/lib/python2.7/dist-packages (from tensorflow-gpu) (0.2.0)\n",
            "Requirement already satisfied: six>=1.10.0 in /usr/local/lib/python2.7/dist-packages (from tensorflow-gpu) (1.11.0)\n",
            "Requirement already satisfied: absl-py>=0.1.6 in /usr/local/lib/python2.7/dist-packages (from tensorflow-gpu) (0.5.0)\n",
            "Requirement already satisfied: wheel in /usr/local/lib/python2.7/dist-packages (from tensorflow-gpu) (0.31.1)\n",
            "Requirement already satisfied: keras-preprocessing>=1.0.3 in /usr/local/lib/python2.7/dist-packages (from tensorflow-gpu) (1.0.5)\n",
            "Requirement already satisfied: termcolor>=1.1.0 in /usr/local/lib/python2.7/dist-packages (from tensorflow-gpu) (1.1.0)\n",
            "Requirement already satisfied: keras-applications>=1.0.5 in /usr/local/lib/python2.7/dist-packages (from tensorflow-gpu) (1.0.6)\n",
            "Requirement already satisfied: numpy>=1.13.3 in /usr/local/lib/python2.7/dist-packages (from tensorflow-gpu) (1.14.6)\n",
            "Requirement already satisfied: tensorboard<1.12.0,>=1.11.0 in /usr/local/lib/python2.7/dist-packages (from tensorflow-gpu) (1.11.0)\n",
            "Requirement already satisfied: mock>=2.0.0 in /usr/local/lib/python2.7/dist-packages (from tensorflow-gpu) (2.0.0)\n",
            "Requirement already satisfied: backports.weakref>=1.0rc1 in /usr/local/lib/python2.7/dist-packages (from tensorflow-gpu) (1.0.post1)\n",
            "Requirement already satisfied: setuptools<=39.1.0 in /usr/local/lib/python2.7/dist-packages (from tensorflow-gpu) (39.1.0)\n",
            "Requirement already satisfied: astor>=0.6.0 in /usr/local/lib/python2.7/dist-packages (from tensorflow-gpu) (0.7.1)\n",
            "Requirement already satisfied: futures>=2.2.0 in /usr/local/lib/python2.7/dist-packages (from grpcio>=1.8.6->tensorflow-gpu) (3.2.0)\n",
            "Requirement already satisfied: h5py in /usr/local/lib/python2.7/dist-packages (from keras-applications>=1.0.5->tensorflow-gpu) (2.8.0)\n",
            "Requirement already satisfied: werkzeug>=0.11.10 in /usr/local/lib/python2.7/dist-packages (from tensorboard<1.12.0,>=1.11.0->tensorflow-gpu) (0.14.1)\n",
            "Requirement already satisfied: markdown>=2.6.8 in /usr/local/lib/python2.7/dist-packages (from tensorboard<1.12.0,>=1.11.0->tensorflow-gpu) (3.0.1)\n",
            "Requirement already satisfied: funcsigs>=1; python_version < \"3.3\" in /usr/local/lib/python2.7/dist-packages (from mock>=2.0.0->tensorflow-gpu) (1.0.2)\n",
            "Requirement already satisfied: pbr>=0.11 in /usr/local/lib/python2.7/dist-packages (from mock>=2.0.0->tensorflow-gpu) (4.2.0)\n",
            "Installing collected packages: tensorflow-gpu\n",
            "Successfully installed tensorflow-gpu-1.11.0\n"
          ],
          "name": "stdout"
        }
      ]
    },
    {
      "metadata": {
        "id": "fEzifmYu7-9X",
        "colab_type": "code",
        "colab": {}
      },
      "cell_type": "code",
      "source": [
        "#load mods\n",
        "import cv2\n",
        "from sklearn.externals import joblib\n",
        "from skimage.feature import hog\n",
        "import numpy as np\n",
        "\n",
        "#load classifier from file saved previously\n",
        "clf=joblib.load(\"digits_cls.pkl\")\n",
        "\n",
        "#read input image #loading test image\n",
        "im=cv2.imread(\"photo_1.jpg\")\n",
        "\n",
        "#convert to greyscale and apply gaussian filter\n",
        "im_gray=cv2.cvtColor(im, cv2.COLOR_BGR2GRAY)\t\t#convert into grayscale img using cv2.cvtColor\n",
        "im_gray=cv2.GaussianBlur(im_gray,(5,5),0)\t\t#apply gaussian filter to remove noisy pixels\n",
        "\n",
        "#threshold image\n",
        "ret,im_th=cv2.threshold(im_gray,90,255, cv2.THRESH_BINARY_INV)  \t#convert grayscale img to bimary img using thresold val=90\n",
        "#all pixel locs with grayscale val>90 are set to 0 and with less than 90 are converted to 255 in binary img\n",
        "#find contours(outline or boundary) in image\n",
        "im,ctrs,hier=cv2.findContours(im_th.copy(),cv2.RETR_EXTERNAL,cv2.CHAIN_APPROX_SIMPLE)\n",
        "#im2, contours, hierarchy = cv2.findContours(a, cv2.RETR_TREE, cv2.CHAIN_APPROX_SIMPLE)\n",
        "#get rectangles contain each contour\n",
        "rects=[cv2.boundingRect(ctr) for ctr in ctrs]  #calc bounding box for each contour\n",
        "\n",
        "\n",
        "#for each rectangular region calc hog features and predict digit using linear SVM\n",
        "for rect in rects:\t\t#for each bounding box gen bounding box around each contour\n",
        "\t#draw rectangles\n",
        "\tcv2.rectangle(im, (rect[0],rect[1]),(rect[0]+rect[2],rect[1]+rect[3]),(0,255,0),3)\n",
        "\t#make rectangular region around digit\n",
        "\tleng=int(rect[3]*1.6)\n",
        "\tpt1=int(rect[1]+rect[3]//2-leng//2)\n",
        "\tpt2=int(rect[0]+rect[2]//2-leng//2)\n",
        "\troi=im_th[pt1:pt1+leng,pt2:pt2+leng]\n",
        "\t#resize image\n",
        "\troi=cv2.resize(roi,(28,28),interpolation=cv2.INTER_AREA) \t#resize each bounding square to 28x28\n",
        "\troi=cv2.dilate(roi,(3,3))\t\t\t\t\t#enlarge it \n",
        "\t#calc the hog features \t#hog feature vector for each bounding square must be same as for classfier trained\n",
        "\troi_hog_fd = hog(roi,orientations=9,pixels_per_cell=(14,14),cells_per_block=(1,1),visualise=False)\n",
        "\tnbr=clf.predict(np.array([roi_hog_fd],'float64'))\t#predict digit using classifier \t\n",
        "\tcv2.putText(im, str(int(nbr[0])),(rect[0],rect[1]),cv2.FONT_HERSHEY_DUPLEX,2,(0,255,255),3)   \t#draw bounding box around predicted digit\n",
        "\n",
        "cv2.imshow(\"Resulting image with rectangular ROIs\",im)  \t#display image\n",
        "cv2.waitKey()"
      ],
      "execution_count": 0,
      "outputs": []
    }
  ]
}